{
 "cells": [
  {
   "cell_type": "markdown",
   "metadata": {},
   "source": [
    "# 1 Grunnstoffer og Bindingstyper"
   ]
  },
  {
   "cell_type": "markdown",
   "metadata": {},
   "source": [
    "## Klassen"
   ]
  },
  {
   "cell_type": "code",
   "execution_count": 4,
   "metadata": {},
   "outputs": [],
   "source": [
    "class Grunnstoff:\n",
    "    \n",
    "    #Funksjon som initialiserer klassen\n",
    "    def __init__(self, a_num, sym, navn, masse, el_neg):\n",
    "        self.a_num = a_num\n",
    "        self.sym = sym\n",
    "        self.navn = navn\n",
    "        self.masse = masse\n",
    "        self.el_neg = el_neg\n",
    "        "
   ]
  },
  {
   "cell_type": "markdown",
   "metadata": {},
   "source": [
    "## Ulike Instanser"
   ]
  },
  {
   "cell_type": "code",
   "execution_count": 5,
   "metadata": {},
   "outputs": [],
   "source": [
    "karbon = Grunnstoff(6, 'C', 'Karbon', 12.01, 2.5)\n",
    "litium = Grunnstoff(3, 'Li', 'Litium', 6.941, 1.0)\n",
    "fluor = Grunnstoff(9, 'Fl', 'Fluor', 19.00, 4.0)\n",
    "brom = Grunnstoff(35, 'Br', 'Brom', 79.90, 2.8)\n",
    "klor = Grunnstoff(17, 'Cl', 'Klor', 35.45, 3.0)\n",
    "kalium = Grunnstoff(19, 'K', 'Kalium', 39.10, 0.8)\n",
    "oksygen = Grunnstoff(8, 'O', 'Oksygen', 16.00, 3.5)\n",
    "hydrogen = Grunnstoff(1, 'H', 'Hydrogen', 1.008, 2.1)\n",
    "\n",
    "# Elektronegativitet: https://snl.no/elektronegativitet\n",
    "# Resten: https://snl.no/periodesystemet"
   ]
  },
  {
   "cell_type": "markdown",
   "metadata": {},
   "source": [
    "## Bindingstypefunksjon"
   ]
  },
  {
   "cell_type": "code",
   "execution_count": 6,
   "metadata": {},
   "outputs": [],
   "source": [
    "def bindingstype(grunnstoff1, grunnstoff2):\n",
    "    \"\"\"Funksjon for å sjekke bindingstype mellom to grunnstoffer\n",
    "\n",
    "    Args:\n",
    "        grunnstoff1: Et instans av grunnstoffklassen\n",
    "        grunnstoff2: Et annet instans av grunnstoffklassen\n",
    "\n",
    "    Returns:\n",
    "        Bindingstype, str\n",
    "\n",
    "    \"\"\"\n",
    "    \n",
    "    #Tenkte det var lurt å ta absoluttverdien, fordi jeg kan ikke se for meg at type binding snus helt på hodet så fort man skifter rekkefølgen på grunnstoffene\n",
    "    forskjell = abs(grunnstoff1.el_neg - grunnstoff2.el_neg)\n",
    "    \n",
    "    if forskjell >= 2.0:\n",
    "        return 'Ionisk'\n",
    "    elif forskjell > 1.6:\n",
    "        return 'Mellom ionisk og polar kovalent'\n",
    "    elif forskjell >= 0.5:\n",
    "        return 'Polar kovalent'\n",
    "    elif forskjell > 0.3:\n",
    "        return 'Mellom polar og upolar kovalent'\n",
    "    else:\n",
    "        return 'Upolar kovalent'\n",
    "    \n",
    "    # De ulike verdiene er hentet fra tabellen i oppgaveteksten"
   ]
  },
  {
   "cell_type": "markdown",
   "metadata": {},
   "source": [
    "## Testing"
   ]
  },
  {
   "cell_type": "code",
   "execution_count": 8,
   "metadata": {},
   "outputs": [
    {
     "name": "stdout",
     "output_type": "stream",
     "text": [
      "Binding LiF: \n",
      "Ionisk\n",
      "\n",
      "\n",
      "Binding BrCl: \n",
      "Upolar kovalent\n",
      "\n",
      "\n",
      "Binding K2O: \n",
      "Ionisk\n",
      "\n",
      "\n",
      "Binding CH4: \n",
      "Mellom polar og upolar kovalent\n",
      "\n",
      "\n"
     ]
    }
   ],
   "source": [
    "#LiF\n",
    "print(\"Binding LiF: \")\n",
    "print(bindingstype(litium, fluor))\n",
    "print('\\n')\n",
    "\n",
    "#BrCl\n",
    "print(\"Binding BrCl: \")\n",
    "print(bindingstype(brom, klor))\n",
    "print('\\n')\n",
    "\n",
    "#K2O\n",
    "print(\"Binding K2O: \")\n",
    "print(bindingstype(kalium, oksygen))\n",
    "print('\\n')\n",
    "\n",
    "#CH4\n",
    "print(\"Binding CH4: \")\n",
    "print(bindingstype(karbon, hydrogen))\n",
    "print('\\n')"
   ]
  },
  {
   "cell_type": "markdown",
   "metadata": {},
   "source": [
    "## Etterord\n",
    "\n",
    "Jeg er ingen kjemiker. Jeg har ikke kjemi som valgfag, og har ingen planer om å gjøre noe med det. Jeg har derfor ingen anelse om noen av svarene mine er riktig. Jeg kunne sjekket med et lett google søk, men så fresh føler jeg meg ikke idag. Dette bør funke og, det får gå. PS: Jeg hadde ikke peiling på hva jeg skulle gjøre når det på magisk vis var en binding mellom flere enn to atomer, så jeg gikk bare for det letteste svaret jeg kunne tenke meg."
   ]
  }
 ],
 "metadata": {
  "kernelspec": {
   "display_name": "Python 3",
   "language": "python",
   "name": "python3"
  },
  "language_info": {
   "codemirror_mode": {
    "name": "ipython",
    "version": 3
   },
   "file_extension": ".py",
   "mimetype": "text/x-python",
   "name": "python",
   "nbconvert_exporter": "python",
   "pygments_lexer": "ipython3",
   "version": "3.7.3"
  }
 },
 "nbformat": 4,
 "nbformat_minor": 2
}
