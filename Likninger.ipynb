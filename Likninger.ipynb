{
 "cells": [
  {
   "cell_type": "markdown",
   "metadata": {},
   "source": [
    "# Likninger"
   ]
  },
  {
   "cell_type": "markdown",
   "metadata": {},
   "source": [
    "## Halveringsmetoden:\n"
   ]
  },
  {
   "cell_type": "code",
   "execution_count": 8,
   "metadata": {},
   "outputs": [
    {
     "name": "stdout",
     "output_type": "stream",
     "text": [
      "(-1.9999980926513672, 20)\n"
     ]
    }
   ],
   "source": [
    "def g(x):\n",
    "    return x**2 - 4\n",
    "\n",
    "a = -10\n",
    "b = 10\n",
    "m = (a + b)/2\n",
    "\n",
    "tol = 1E-5\n",
    "\n",
    "def losning(a, b, m, f, tol, runder):\n",
    "    while abs(f(m)) > tol:\n",
    "        if f(a) * f(m) < 0:\n",
    "            b = m\n",
    "        elif f(b)* f(m) < 0:\n",
    "            a = m\n",
    "        m = (a + b)/2\n",
    "        runder += 1\n",
    "    return m, runder\n",
    "\n",
    "print(losning(a, b, m, g, 1E-5, 0))"
   ]
  },
  {
   "cell_type": "code",
   "execution_count": null,
   "metadata": {},
   "outputs": [],
   "source": []
  },
  {
   "cell_type": "code",
   "execution_count": null,
   "metadata": {},
   "outputs": [],
   "source": []
  }
 ],
 "metadata": {
  "kernelspec": {
   "display_name": "Python 3",
   "language": "python",
   "name": "python3"
  },
  "language_info": {
   "codemirror_mode": {
    "name": "ipython",
    "version": 3
   },
   "file_extension": ".py",
   "mimetype": "text/x-python",
   "name": "python",
   "nbconvert_exporter": "python",
   "pygments_lexer": "ipython3",
   "version": "3.7.3"
  }
 },
 "nbformat": 4,
 "nbformat_minor": 2
}
