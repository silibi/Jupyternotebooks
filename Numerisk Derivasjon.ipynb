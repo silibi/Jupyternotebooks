{
 "cells": [
  {
   "cell_type": "markdown",
   "metadata": {},
   "source": [
    "# Numerisk Matematikk\n",
    "\n",
    "## Numerisk derivasjon"
   ]
  },
  {
   "cell_type": "markdown",
   "metadata": {},
   "source": [
    "(a)\n",
    "En sekant er en linje som krysser en kurve i minst to punkter. Stigningstallet til en sekant kan gis ved den gjennomsnittlige vekstfarten mellom punktene. Det kan skrives slik:\n",
    "\n",
    "$$k = \\frac{f(a + \\Delta{a}) - f(a)}{\\Delta{a}}$$"
   ]
  },
  {
   "cell_type": "markdown",
   "metadata": {},
   "source": [
    "(b)\n",
    "En tangent er en linje som tangerer en kurve i et punkt. Stigningstallet k til tangenten kan gis ved den momentane vekstfarten. Den momentane vekstfarten gjennom punktet a på funksjonen f kan skrives slik:\n",
    "\n",
    "$$f'(a)=\\lim_{\\Delta a\\to\\ 0}\\frac{f(a+\\Delta{a})-f(a)}{\\Delta{a}}$$"
   ]
  },
  {
   "cell_type": "markdown",
   "metadata": {},
   "source": [
    "(c)\n",
    "Derivasjon er å se på endringer og hvordan ulike verdier skiller seg fra hverandre i vekst. Gjennom derivasjon ser man på forandringer."
   ]
  },
  {
   "cell_type": "markdown",
   "metadata": {},
   "source": [
    "(d)\n",
    "Newtons kvotient kan skrives slik:\n",
    "\n",
    "$$f'(x)=\\frac{f(x+h)-f(x)}{h}$$\n",
    "\n",
    "Forskjellen mellom Newtons kvotient og definisjonen av den deriverte er at definisjonen av den deriverte opererer med grenseverdien hvor delta x går mot null, mens newtons kvotient opererer med en konstant h som er veldig liten. Dette fører til at definisjonen av den deriverte gir et mer eksakt resultat enn newtons kvotient."
   ]
  },
  {
   "cell_type": "code",
   "execution_count": 1,
   "metadata": {},
   "outputs": [
    {
     "name": "stdout",
     "output_type": "stream",
     "text": [
      "5.000000036226027\n"
     ]
    }
   ],
   "source": [
    "def NewtonsKvotient(f, x, h=1E-8):\n",
    "    return (f(x + h) - f(x))/h\n",
    "\n",
    "def f(x):\n",
    "    return 3*x**2 + 5*x - 2\n",
    "\n",
    "print(NewtonsKvotient(f, 0))"
   ]
  },
  {
   "cell_type": "markdown",
   "metadata": {},
   "source": [
    "Det Analytiske svaret på funksjonen over ville vært 5"
   ]
  },
  {
   "cell_type": "markdown",
   "metadata": {},
   "source": [
    "(e)\n",
    "Min favorittfunksjon:\n",
    "\n",
    "$$f(x) = 2x^3 - 3x^2 + 5x - 6$$"
   ]
  },
  {
   "cell_type": "code",
   "execution_count": 27,
   "metadata": {},
   "outputs": [
    {
     "name": "stdout",
     "output_type": "stream",
     "text": [
      "For delta x = 0.1 er feilen lik: 0.2800000000000047\n",
      "For delta x = 0.01 er feilen lik: 0.02980000000000871\n",
      "For delta x = 0.001 er feilen lik: 0.0029980000003604346\n",
      "For delta x = 0.0001 er feilen lik: 0.00029997999916986373\n",
      "For delta x = 1e-05 er feilen lik: 2.9999836499428056e-05\n",
      "For delta x = 1e-06 er feilen lik: 2.9995678119121294e-06\n",
      "For delta x = 1e-07 er feilen lik: 2.968408807646483e-07\n",
      "For delta x = 1e-08 er feilen lik: 3.038735485461075e-08\n",
      "For delta x = 1e-09 er feilen lik: 4.1370185499545187e-07\n",
      "For delta x = 1e-10 er feilen lik: 4.1370185499545187e-07\n",
      "For delta x = 1e-11 er feilen lik: 4.1370185499545187e-07\n",
      "For delta x = 1e-12 er feilen lik: 0.00044367550799506716\n",
      "For delta x = 1e-13 er feilen lik: 0.00044450291170505807\n",
      "For delta x = 1e-14 er feilen lik: 0.0262008496792987\n",
      "For delta x = 1e-15 er feilen lik: 0.3290705182007514\n",
      "For delta x = 1e-16 er feilen lik: 3.8817841970012523\n"
     ]
    }
   ],
   "source": [
    "from pylab import *\n",
    "\n",
    "def f(x):\n",
    "    return 2*x**3 - 3*x**2 + 5*x - 6\n",
    "\n",
    "#For x = 0\n",
    "analytiskverdi = 5\n",
    "\n",
    "feil = []\n",
    "deltax = []\n",
    "\n",
    "for i in range(-1, -17, -1):\n",
    "    numeriskverdi = NewtonsKvotient(f, 0, h=10**i)\n",
    "    feilen = abs(analytiskverdi - numeriskverdi)\n",
    "    \n",
    "    feil.append(feilen)\n",
    "    deltax.append(10 ** i)\n",
    "    \n",
    "    print(\"For delta x = {} er feilen lik: {}\".format(10**i, feilen))\n",
    "    \n",
    "feil = array(feil)\n",
    "deltax = array(deltax)"
   ]
  },
  {
   "cell_type": "code",
   "execution_count": 30,
   "metadata": {},
   "outputs": [
    {
     "data": {
      "image/png": "[encoded data removed]",
      "text/plain": [
       "<Figure size 432x288 with 1 Axes>"
      ]
     },
     "metadata": {
      "needs_background": "light"
     },
     "output_type": "display_data"
    }
   ],
   "source": [
    "plot(deltax, feil)\n",
    "xscale('log')\n",
    "yscale('log')\n",
    "xlabel(\"deltax\")\n",
    "ylabel(\"feilen\")\n",
    "show()"
   ]
  },
  {
   "cell_type": "markdown",
   "metadata": {},
   "source": [
    "Det jeg ser utifra grafen er at feilen er minst ved $10^{-8}$. Det vil si at den numeriske tilnærmingen er mest presis for denne verdien for deltax"
   ]
  },
  {
   "cell_type": "code",
   "execution_count": null,
   "metadata": {},
   "outputs": [],
   "source": []
  },
  {
   "cell_type": "code",
   "execution_count": null,
   "metadata": {},
   "outputs": [],
   "source": []
  }
 ],
 "metadata": {
  "kernelspec": {
   "display_name": "Python 3",
   "language": "python",
   "name": "python3"
  },
  "language_info": {
   "codemirror_mode": {
    "name": "ipython",
    "version": 3
   },
   "file_extension": ".py",
   "mimetype": "text/x-python",
   "name": "python",
   "nbconvert_exporter": "python",
   "pygments_lexer": "ipython3",
   "version": "3.7.3"
  }
 },
 "nbformat": 4,
 "nbformat_minor": 2
}
