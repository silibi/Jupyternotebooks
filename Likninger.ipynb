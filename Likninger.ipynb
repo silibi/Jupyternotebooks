{
 "cells": [
  {
   "cell_type": "markdown",
   "metadata": {},
   "source": [
    "# Likninger"
   ]
  },
  {
   "cell_type": "markdown",
   "metadata": {},
   "source": [
    "## Halveringsmetoden:\n"
   ]
  },
  {
   "cell_type": "code",
   "execution_count": 8,
   "metadata": {},
   "outputs": [
    {
     "name": "stdout",
     "output_type": "stream",
     "text": [
      "(-1.9999980926513672, 20)\n"
     ]
    }
   ],
   "source": [
    "def g(x):\n",
    "    return x**2 - 4\n",
    "\n",
    "a = -10\n",
    "b = 10\n",
    "m = (a + b)/2\n",
    "\n",
    "tol = 1E-5\n",
    "\n",
    "def losning(a, b, m, f, tol, runder):\n",
    "    while abs(f(m)) > tol:\n",
    "        if f(a) * f(m) < 0:\n",
    "            b = m\n",
    "        elif f(b)* f(m) < 0:\n",
    "            a = m\n",
    "        m = (a + b)/2\n",
    "        runder += 1\n",
    "    return m, runder\n",
    "\n",
    "print(losning(a, b, m, g, 1E-5, 0))"
   ]
  },
  {
   "cell_type": "markdown",
   "metadata": {},
   "source": [
    "## Newtons Metode"
   ]
  },
  {
   "cell_type": "markdown",
   "metadata": {},
   "source": [
    "Den tilnærmer nullpunktet ved å se på tangentene og hvor de har nullpunkter\n",
    "\n",
    "$$x_{n+1} = x_n - \\frac{f(x_n)}{f'(x_n)} $$"
   ]
  },
  {
   "cell_type": "code",
   "execution_count": 7,
   "metadata": {},
   "outputs": [
    {
     "name": "stdout",
     "output_type": "stream",
     "text": [
      "Nullpunktet er: 2.0 Og løkken gikk:  1 gang(er)\n"
     ]
    }
   ],
   "source": [
    "def f(x):\n",
    "    return 2*x - 4\n",
    "\n",
    "def fder(x):\n",
    "    return 2\n",
    "\n",
    "antalliter = 0\n",
    "x = 0\n",
    "tol = 1E-5\n",
    "\n",
    "while abs(f(x)) > tol:\n",
    "    x = x - f(x)/fder(x)\n",
    "    antalliter -= -1\n",
    "    if antalliter > 1000:\n",
    "        break\n",
    "    \n",
    "print(\"Nullpunktet er:\", x,\"Og løkken gikk: \", antalliter, \"gang(er)\")"
   ]
  },
  {
   "cell_type": "markdown",
   "metadata": {},
   "source": [
    "Problemet med metoden er at den kan møte på topp- og bunnpunkter som gjør at metoden ikke konvergerer."
   ]
  },
  {
   "cell_type": "markdown",
   "metadata": {},
   "source": [
    "## Skyte spurv med kanon\n",
    "\n",
    "a)\n",
    "Vi kan utrykke høyden på ballen som en funksjon av tid slik:\n",
    "\n",
    "Først starter vi med veiformel 2:\n",
    "\n",
    "$$s = v_0\\cdot t + \\frac{1}{2}\\cdot a \\cdot t^2$$\n",
    "\n",
    "Vi si at akselerasjonen er $g = -9.81\\frac{m}{s^2}$, fordi ballen er i fritt fall, og det er kun gravitasjonen som virker på den.\n",
    "\n",
    "Vi må også multiplisere startfarten med $\\sin{\\theta}$, fordi den kastes i en spesiell vinkel som ikke nødvendigvis er rett opp.\n",
    "\n",
    "Til slutt kan vi si at høyden er $y$ og kan bli beskrevet som en funksjon av tiden.\n",
    "\n",
    "Ved å sette alt dette inn i funksjonen får vi:\n",
    "\n",
    "$$y(t) = v_0 \\cdot \\sin{\\theta} \\cdot t - \\frac{1}{2} \\cdot g \\cdot t ^ 2$$\n"
   ]
  },
  {
   "cell_type": "markdown",
   "metadata": {},
   "source": [
    "b)\n",
    "Strekningen $x(t)$ vi være lik, bortsett fra at den ikke påvirkes av gravitasjonen i den retningen og vinkelen blir motsatt av ved høyden. Vi kan skrive dette som:\n",
    "$$x(t) = v_0 \\cdot \\cos{\\theta} \\cdot t$$"
   ]
  },
  {
   "cell_type": "markdown",
   "metadata": {},
   "source": [
    "c)"
   ]
  },
  {
   "cell_type": "code",
   "execution_count": 15,
   "metadata": {},
   "outputs": [
    {
     "name": "stdout",
     "output_type": "stream",
     "text": [
      "For thetaverdien pi/6 får vi: \n",
      "Det tar 0.681 sekunder\n",
      "Avstanden kulen har dratt da er lik 3.939\n",
      "----------------------------------------------------------------\n",
      "For thetaverdien pi/5 får vi: \n",
      "Det tar 0.8 sekunder\n",
      "Avstanden kulen har dratt da er lik 4.326\n",
      "----------------------------------------------------------------\n",
      "For thetaverdien pi/4 får vi: \n",
      "Det tar 0.963 sekunder\n",
      "Avstanden kulen har dratt da er lik 4.549\n",
      "----------------------------------------------------------------\n",
      "For thetaverdien pi/3 får vi: \n",
      "Det tar 1.179 sekunder\n",
      "Avstanden kulen har dratt da er lik 3.939\n",
      "----------------------------------------------------------------\n"
     ]
    }
   ],
   "source": [
    "from math import *\n",
    "\n",
    "def y(t, v0, theta):\n",
    "    g = 9.81\n",
    "    return v0*sin(theta)*t-1/2*g*t**2\n",
    "\n",
    "def yder(t, v0, theta):\n",
    "    g = 9.81\n",
    "    return v0*sin(theta) - g*t\n",
    "\n",
    "def x(t, v0, theta):\n",
    "    return v0*cos(theta)*t\n",
    "\n",
    "def newtons(f, fder, x, v0, theta, tol = 1E-5, N=100):\n",
    "    i = 0\n",
    "    while abs(f(x, v0, theta)) > tol and i <= N:\n",
    "        x = x - f(x, v0, theta)/fder(x, v0, theta)\n",
    "        i += 1\n",
    "    return x\n",
    "\n",
    "fart = 6.68\n",
    "thetaverdier = [6, 5, 4, 3]\n",
    "for i in thetaverdier:\n",
    "    tid = newtons(y, yder, 10, fart, pi/i)\n",
    "    avstand = x(tid, fart, pi/i)\n",
    "    print(\"For thetaverdien pi/{} får vi: \".format(round(i, 3)))\n",
    "    print(\"Det tar {} sekunder\".format(round(tid, 3)))\n",
    "    print(\"Avstanden kulen har dratt da er lik {}\".format(round(avstand, 3)))\n",
    "    print(\"----------------------------------------------------------------\")\n"
   ]
  },
  {
   "cell_type": "markdown",
   "metadata": {},
   "source": [
    "Verdiene blir feil i forhold til testene vi gjorde, fordi vi ikke tar hensyn til luftmotstanden."
   ]
  },
  {
   "cell_type": "code",
   "execution_count": null,
   "metadata": {},
   "outputs": [],
   "source": []
  }
 ],
 "metadata": {
  "kernelspec": {
   "display_name": "Python 3",
   "language": "python",
   "name": "python3"
  },
  "language_info": {
   "codemirror_mode": {
    "name": "ipython",
    "version": 3
   },
   "file_extension": ".py",
   "mimetype": "text/x-python",
   "name": "python",
   "nbconvert_exporter": "python",
   "pygments_lexer": "ipython3",
   "version": "3.7.3"
  }
 },
 "nbformat": 4,
 "nbformat_minor": 2
}
